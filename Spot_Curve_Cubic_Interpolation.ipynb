{
 "cells": [
  {
   "cell_type": "markdown",
   "metadata": {},
   "source": [
    "# Spot Curve Cubic Interpolation"
   ]
  },
  {
   "cell_type": "markdown",
   "metadata": {},
   "source": [
    "#### This program is for deriving spot curve using cubic interpolation."
   ]
  },
  {
   "cell_type": "markdown",
   "metadata": {},
   "source": [
    "1. The initial spot rate data is estimated using coupon rate of bonds whose price are very close to par value. \n",
    "2. Use four data points each time to estimate a cubic polynomial and interpolate data on missing dates using that polynomial. \n",
    "3. Interpolation is based on bootstrap"
   ]
  },
  {
   "cell_type": "code",
   "execution_count": 7,
   "metadata": {},
   "outputs": [],
   "source": [
    "import pandas as pd\n",
    "import numpy as np\n",
    "from numpy.linalg import inv"
   ]
  },
  {
   "cell_type": "markdown",
   "metadata": {},
   "source": [
    "#### 1. import data"
   ]
  },
  {
   "cell_type": "code",
   "execution_count": 10,
   "metadata": {},
   "outputs": [
    {
     "data": {
      "text/html": [
       "<div>\n",
       "<style scoped>\n",
       "    .dataframe tbody tr th:only-of-type {\n",
       "        vertical-align: middle;\n",
       "    }\n",
       "\n",
       "    .dataframe tbody tr th {\n",
       "        vertical-align: top;\n",
       "    }\n",
       "\n",
       "    .dataframe thead th {\n",
       "        text-align: right;\n",
       "    }\n",
       "</style>\n",
       "<table border=\"1\" class=\"dataframe\">\n",
       "  <thead>\n",
       "    <tr style=\"text-align: right;\">\n",
       "      <th></th>\n",
       "      <th>YTM</th>\n",
       "      <th>Coupon</th>\n",
       "      <th>spot</th>\n",
       "    </tr>\n",
       "  </thead>\n",
       "  <tbody>\n",
       "    <tr>\n",
       "      <th>1</th>\n",
       "      <td>1.0</td>\n",
       "      <td>1.125</td>\n",
       "      <td>1.125</td>\n",
       "    </tr>\n",
       "    <tr>\n",
       "      <th>2</th>\n",
       "      <td>2.0</td>\n",
       "      <td>1.750</td>\n",
       "      <td>1.750</td>\n",
       "    </tr>\n",
       "    <tr>\n",
       "      <th>3</th>\n",
       "      <td>3.0</td>\n",
       "      <td>1.500</td>\n",
       "      <td>1.500</td>\n",
       "    </tr>\n",
       "    <tr>\n",
       "      <th>4</th>\n",
       "      <td>0.5</td>\n",
       "      <td>1.500</td>\n",
       "      <td>1.500</td>\n",
       "    </tr>\n",
       "    <tr>\n",
       "      <th>5</th>\n",
       "      <td>2.5</td>\n",
       "      <td>1.500</td>\n",
       "      <td>1.500</td>\n",
       "    </tr>\n",
       "    <tr>\n",
       "      <th>6</th>\n",
       "      <td>6.5</td>\n",
       "      <td>1.500</td>\n",
       "      <td>1.500</td>\n",
       "    </tr>\n",
       "    <tr>\n",
       "      <th>7</th>\n",
       "      <td>9.5</td>\n",
       "      <td>1.625</td>\n",
       "      <td>1.625</td>\n",
       "    </tr>\n",
       "    <tr>\n",
       "      <th>8</th>\n",
       "      <td>1.5</td>\n",
       "      <td>1.500</td>\n",
       "      <td>1.500</td>\n",
       "    </tr>\n",
       "    <tr>\n",
       "      <th>9</th>\n",
       "      <td>3.5</td>\n",
       "      <td>1.375</td>\n",
       "      <td>1.375</td>\n",
       "    </tr>\n",
       "    <tr>\n",
       "      <th>10</th>\n",
       "      <td>4.5</td>\n",
       "      <td>1.250</td>\n",
       "      <td>1.250</td>\n",
       "    </tr>\n",
       "  </tbody>\n",
       "</table>\n",
       "</div>"
      ],
      "text/plain": [
       "    YTM  Coupon   spot\n",
       "1   1.0   1.125  1.125\n",
       "2   2.0   1.750  1.750\n",
       "3   3.0   1.500  1.500\n",
       "4   0.5   1.500  1.500\n",
       "5   2.5   1.500  1.500\n",
       "6   6.5   1.500  1.500\n",
       "7   9.5   1.625  1.625\n",
       "8   1.5   1.500  1.500\n",
       "9   3.5   1.375  1.375\n",
       "10  4.5   1.250  1.250"
      ]
     },
     "execution_count": 10,
     "metadata": {},
     "output_type": "execute_result"
    }
   ],
   "source": [
    "adrs = adrs = \"/Users/wanqiwang/Desktop/fi_data_cubic.csv\"\n",
    "spotrate=pd.read_csv(adrs)\n",
    "\n",
    "spotrate.Coupon=spotrate.Coupon.astype('float64')\n",
    "spotrate.YTM=spotrate.YTM.astype('float64')\n",
    "spotrate['spot']=spotrate.Coupon\n",
    "spotrate.index+=1\n",
    "\n",
    "cubic_spot=pd.DataFrame(data=spotrate,columns=['YTM','Coupon','spot'])\n",
    "cubic_spot"
   ]
  },
  {
   "cell_type": "markdown",
   "metadata": {},
   "source": [
    "#### 2. estimate cubic polynomial and interpolate data on missing dates\n",
    "inter is for recording interpolated data and the corresponding initial data date interval"
   ]
  },
  {
   "cell_type": "code",
   "execution_count": 11,
   "metadata": {},
   "outputs": [
    {
     "data": {
      "text/html": [
       "<div>\n",
       "<style scoped>\n",
       "    .dataframe tbody tr th:only-of-type {\n",
       "        vertical-align: middle;\n",
       "    }\n",
       "\n",
       "    .dataframe tbody tr th {\n",
       "        vertical-align: top;\n",
       "    }\n",
       "\n",
       "    .dataframe thead th {\n",
       "        text-align: right;\n",
       "    }\n",
       "</style>\n",
       "<table border=\"1\" class=\"dataframe\">\n",
       "  <thead>\n",
       "    <tr style=\"text-align: right;\">\n",
       "      <th></th>\n",
       "      <th>YTM</th>\n",
       "      <th>Coupon</th>\n",
       "      <th>spot</th>\n",
       "    </tr>\n",
       "  </thead>\n",
       "  <tbody>\n",
       "    <tr>\n",
       "      <th>1</th>\n",
       "      <td>0.5</td>\n",
       "      <td>1.500</td>\n",
       "      <td>1.500000</td>\n",
       "    </tr>\n",
       "    <tr>\n",
       "      <th>2</th>\n",
       "      <td>1.0</td>\n",
       "      <td>1.125</td>\n",
       "      <td>1.125000</td>\n",
       "    </tr>\n",
       "    <tr>\n",
       "      <th>3</th>\n",
       "      <td>1.5</td>\n",
       "      <td>1.500</td>\n",
       "      <td>1.500000</td>\n",
       "    </tr>\n",
       "    <tr>\n",
       "      <th>4</th>\n",
       "      <td>2.0</td>\n",
       "      <td>1.750</td>\n",
       "      <td>1.750000</td>\n",
       "    </tr>\n",
       "    <tr>\n",
       "      <th>5</th>\n",
       "      <td>2.5</td>\n",
       "      <td>1.500</td>\n",
       "      <td>1.500000</td>\n",
       "    </tr>\n",
       "    <tr>\n",
       "      <th>6</th>\n",
       "      <td>3.0</td>\n",
       "      <td>1.500</td>\n",
       "      <td>1.500000</td>\n",
       "    </tr>\n",
       "    <tr>\n",
       "      <th>7</th>\n",
       "      <td>3.5</td>\n",
       "      <td>1.375</td>\n",
       "      <td>1.375000</td>\n",
       "    </tr>\n",
       "    <tr>\n",
       "      <th>8</th>\n",
       "      <td>4.0</td>\n",
       "      <td>0.000</td>\n",
       "      <td>1.500000</td>\n",
       "    </tr>\n",
       "    <tr>\n",
       "      <th>9</th>\n",
       "      <td>4.5</td>\n",
       "      <td>1.250</td>\n",
       "      <td>1.250000</td>\n",
       "    </tr>\n",
       "    <tr>\n",
       "      <th>10</th>\n",
       "      <td>5.0</td>\n",
       "      <td>0.000</td>\n",
       "      <td>1.500000</td>\n",
       "    </tr>\n",
       "    <tr>\n",
       "      <th>11</th>\n",
       "      <td>5.5</td>\n",
       "      <td>0.000</td>\n",
       "      <td>1.500000</td>\n",
       "    </tr>\n",
       "    <tr>\n",
       "      <th>12</th>\n",
       "      <td>6.0</td>\n",
       "      <td>0.000</td>\n",
       "      <td>1.500000</td>\n",
       "    </tr>\n",
       "    <tr>\n",
       "      <th>13</th>\n",
       "      <td>6.5</td>\n",
       "      <td>1.500</td>\n",
       "      <td>1.500000</td>\n",
       "    </tr>\n",
       "    <tr>\n",
       "      <th>14</th>\n",
       "      <td>7.0</td>\n",
       "      <td>0.000</td>\n",
       "      <td>1.509673</td>\n",
       "    </tr>\n",
       "    <tr>\n",
       "      <th>15</th>\n",
       "      <td>7.5</td>\n",
       "      <td>0.000</td>\n",
       "      <td>1.523148</td>\n",
       "    </tr>\n",
       "    <tr>\n",
       "      <th>16</th>\n",
       "      <td>8.0</td>\n",
       "      <td>0.000</td>\n",
       "      <td>1.540923</td>\n",
       "    </tr>\n",
       "    <tr>\n",
       "      <th>17</th>\n",
       "      <td>8.5</td>\n",
       "      <td>0.000</td>\n",
       "      <td>1.563492</td>\n",
       "    </tr>\n",
       "    <tr>\n",
       "      <th>18</th>\n",
       "      <td>9.0</td>\n",
       "      <td>0.000</td>\n",
       "      <td>1.591353</td>\n",
       "    </tr>\n",
       "    <tr>\n",
       "      <th>19</th>\n",
       "      <td>9.5</td>\n",
       "      <td>1.625</td>\n",
       "      <td>1.625000</td>\n",
       "    </tr>\n",
       "  </tbody>\n",
       "</table>\n",
       "</div>"
      ],
      "text/plain": [
       "    YTM  Coupon      spot\n",
       "1   0.5   1.500  1.500000\n",
       "2   1.0   1.125  1.125000\n",
       "3   1.5   1.500  1.500000\n",
       "4   2.0   1.750  1.750000\n",
       "5   2.5   1.500  1.500000\n",
       "6   3.0   1.500  1.500000\n",
       "7   3.5   1.375  1.375000\n",
       "8   4.0   0.000  1.500000\n",
       "9   4.5   1.250  1.250000\n",
       "10  5.0   0.000  1.500000\n",
       "11  5.5   0.000  1.500000\n",
       "12  6.0   0.000  1.500000\n",
       "13  6.5   1.500  1.500000\n",
       "14  7.0   0.000  1.509673\n",
       "15  7.5   0.000  1.523148\n",
       "16  8.0   0.000  1.540923\n",
       "17  8.5   0.000  1.563492\n",
       "18  9.0   0.000  1.591353\n",
       "19  9.5   1.625  1.625000"
      ]
     },
     "execution_count": 11,
     "metadata": {},
     "output_type": "execute_result"
    }
   ],
   "source": [
    "inter={}\n",
    "for i in range(1,len(spotrate)-2): # i=1;\n",
    "    A=[[spotrate.YTM[i]**3,spotrate.YTM[i]**2,spotrate.YTM[i],1],\n",
    "       [spotrate.YTM[i+1]**3,spotrate.YTM[i+1]**2,spotrate.YTM[i+1],1],\n",
    "       [spotrate.YTM[i+2]**3,spotrate.YTM[i+2]**2,spotrate.YTM[i+2],1],\n",
    "       [spotrate.YTM[i+3]**3,spotrate.YTM[i+3]**2,spotrate.YTM[i+3],1]]\n",
    "    #spot=[spotrate.Coupon[i+3],spotrate.Coupon[i+2],spotrate.Coupon[i+1],spotrate.Coupon[i]]\n",
    "    spot=[spotrate.Coupon[i],spotrate.Coupon[i+1],spotrate.Coupon[i+2],spotrate.Coupon[i+3]]\n",
    "    coef=np.matmul(inv(A),spot)\n",
    "    for t in [j/2 for j in range(int(spotrate.YTM[i]*2),int(spotrate.YTM[i+3]*2)+1)]:\n",
    "        if t not in list(cubic_spot.YTM): # t=1.0\n",
    "            inter[t]=(spotrate.YTM[i],spotrate.YTM[i+3])\n",
    "            cubic_spot.loc[0]=[t,0.0,np.matmul(coef,[t**3,t**2,t,1.0])]                    \n",
    "            cubic_spot=cubic_spot.sort_values('YTM') \n",
    "            cubic_spot=cubic_spot.reset_index().iloc[:,1:]\n",
    "            cubic_spot.index+=1\n",
    "\n",
    "cubic_spot"
   ]
  },
  {
   "cell_type": "code",
   "execution_count": 4,
   "metadata": {},
   "outputs": [
    {
     "data": {
      "text/plain": [
       "{1.0: (0.5, 2.5),\n",
       " 3.5: (2.0, 4.5),\n",
       " 4.0: (2.0, 4.5),\n",
       " 5.0: (2.5, 9.0),\n",
       " 5.5: (2.5, 9.0),\n",
       " 6.0: (2.5, 9.0),\n",
       " 6.5: (2.5, 9.0),\n",
       " 7.0: (2.5, 9.0),\n",
       " 7.5: (2.5, 9.0),\n",
       " 8.0: (2.5, 9.0),\n",
       " 8.5: (2.5, 9.0),\n",
       " 9.5: (3.0, 28.0),\n",
       " 10.0: (3.0, 28.0),\n",
       " 10.5: (3.0, 28.0),\n",
       " 11.0: (3.0, 28.0),\n",
       " 11.5: (3.0, 28.0),\n",
       " 12.0: (3.0, 28.0),\n",
       " 12.5: (3.0, 28.0),\n",
       " 13.0: (3.0, 28.0),\n",
       " 13.5: (3.0, 28.0),\n",
       " 14.0: (3.0, 28.0),\n",
       " 14.5: (3.0, 28.0),\n",
       " 15.0: (3.0, 28.0),\n",
       " 15.5: (3.0, 28.0),\n",
       " 16.0: (3.0, 28.0),\n",
       " 16.5: (3.0, 28.0),\n",
       " 17.0: (3.0, 28.0),\n",
       " 17.5: (3.0, 28.0),\n",
       " 18.0: (3.0, 28.0),\n",
       " 18.5: (3.0, 28.0),\n",
       " 19.0: (3.0, 28.0),\n",
       " 19.5: (3.0, 28.0),\n",
       " 20.0: (3.0, 28.0),\n",
       " 20.5: (3.0, 28.0),\n",
       " 21.0: (3.0, 28.0),\n",
       " 21.5: (3.0, 28.0),\n",
       " 22.0: (3.0, 28.0),\n",
       " 22.5: (3.0, 28.0),\n",
       " 23.0: (3.0, 28.0),\n",
       " 23.5: (3.0, 28.0),\n",
       " 24.0: (3.0, 28.0),\n",
       " 24.5: (3.0, 28.0),\n",
       " 25.0: (3.0, 28.0),\n",
       " 25.5: (3.0, 28.0),\n",
       " 26.0: (3.0, 28.0),\n",
       " 26.5: (3.0, 28.0),\n",
       " 27.0: (3.0, 28.0),\n",
       " 27.5: (3.0, 28.0),\n",
       " 28.5: (4.5, 29.0)}"
      ]
     },
     "execution_count": 4,
     "metadata": {},
     "output_type": "execute_result"
    }
   ],
   "source": [
    "inter"
   ]
  },
  {
   "cell_type": "markdown",
   "metadata": {},
   "source": [
    "#### 3. plot"
   ]
  },
  {
   "cell_type": "code",
   "execution_count": 12,
   "metadata": {},
   "outputs": [
    {
     "data": {
      "text/plain": [
       "[<matplotlib.lines.Line2D at 0x123020eb8>]"
      ]
     },
     "execution_count": 12,
     "metadata": {},
     "output_type": "execute_result"
    },
    {
     "data": {
      "image/png": "[encoded data removed]",
      "text/plain": [
       "<Figure size 432x288 with 1 Axes>"
      ]
     },
     "metadata": {
      "needs_background": "light"
     },
     "output_type": "display_data"
    }
   ],
   "source": [
    "%matplotlib inline \n",
    "import matplotlib.pyplot as plt\n",
    "plt.plot(cubic_spot.spot)"
   ]
  },
  {
   "cell_type": "code",
   "execution_count": 13,
   "metadata": {},
   "outputs": [],
   "source": [
    "cubic_spot.to_csv(\"spot_cubic.csv\")"
   ]
  },
  {
   "cell_type": "code",
   "execution_count": null,
   "metadata": {},
   "outputs": [],
   "source": []
  }
 ],
 "metadata": {
  "kernelspec": {
   "display_name": "Python 3",
   "language": "python",
   "name": "python3"
  },
  "language_info": {
   "codemirror_mode": {
    "name": "ipython",
    "version": 3
   },
   "file_extension": ".py",
   "mimetype": "text/x-python",
   "name": "python",
   "nbconvert_exporter": "python",
   "pygments_lexer": "ipython3",
   "version": "3.7.3"
  }
 },
 "nbformat": 4,
 "nbformat_minor": 2
}
